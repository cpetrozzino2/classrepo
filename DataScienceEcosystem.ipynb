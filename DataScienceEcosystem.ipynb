{
 "cells": [
  {
   "cell_type": "markdown",
   "id": "a18212a0",
   "metadata": {},
   "source": [
    "# Data Science Tools and Ecosystem"
   ]
  },
  {
   "cell_type": "markdown",
   "id": "5ed8a113",
   "metadata": {},
   "source": [
    "This Jupyter notebook summarizes a number of the topics that were presented in the Tools for Data Science course."
   ]
  },
  {
   "cell_type": "markdown",
   "id": "3e335425",
   "metadata": {},
   "source": [
    "There are a number of popular data scientist languages including:\n",
    "\n",
    "1. Python\n",
    "2. R\n",
    "3. SQL\n",
    "4. Java\n",
    "5. Julia\n",
    "6. Scala"
   ]
  },
  {
   "cell_type": "markdown",
   "id": "5d08123a",
   "metadata": {},
   "source": [
    "These languages are supported by libraries which make the Data Scientist's job much easier:\n",
    "\n",
    "1. NumPy\n",
    "2. SciPy\n",
    "3. Pandas\n",
    "4. SciKit-Learn\n",
    "5. PyTorch\n",
    "6. Keras"
   ]
  },
  {
   "cell_type": "markdown",
   "id": "7c72875e",
   "metadata": {},
   "source": [
    "| Environment                            |\n",
    "|----------------------------------------|\n",
    "| IBM Watson Studio                      |\n",
    "| JupyterLab Notebook & Jupyter Notebook |\n",
    "| Spyder                                 |"
   ]
  },
  {
   "cell_type": "markdown",
   "id": "f0dccaa0",
   "metadata": {},
   "source": [
    "A better table\n",
    "\n",
    "| Environment                            |\n",
    "|:---------------------------------------|\n",
    "| IBM Watson Studio                      |\n",
    "| JupyterLab Notebook & Jupyter Notebook |\n",
    "| Spyder                                 |"
   ]
  },
  {
   "cell_type": "markdown",
   "id": "c9baec5b",
   "metadata": {},
   "source": [
    "Now let's try some multiplication\n",
    "***\n"
   ]
  },
  {
   "cell_type": "markdown",
   "id": "1b66322f",
   "metadata": {},
   "source": [
    "### Some simple arithmetic operations"
   ]
  },
  {
   "cell_type": "code",
   "execution_count": 2,
   "id": "2be01dba",
   "metadata": {},
   "outputs": [
    {
     "name": "stdout",
     "output_type": "stream",
     "text": [
      "the sum of A and B are  25 , the difference is  5\n"
     ]
    }
   ],
   "source": [
    "A = 10\n",
    "B = 15\n",
    "Diff = B - A\n",
    "Sum = A + B\n",
    "print (\"the sum of A and B are \", Sum, \", the difference is \", Diff)"
   ]
  },
  {
   "cell_type": "markdown",
   "id": "35c9e491",
   "metadata": {},
   "source": [
    "***\n",
    "Multiplication"
   ]
  },
  {
   "cell_type": "code",
   "execution_count": 3,
   "id": "f721dab0",
   "metadata": {},
   "outputs": [
    {
     "name": "stdout",
     "output_type": "stream",
     "text": [
      "the multiplication total is 17\n"
     ]
    }
   ],
   "source": [
    "x = 3\n",
    "y = 4\n",
    "z = 5\n",
    "total = (x * y) + z\n",
    "print (\"the multiplication total is\", total)"
   ]
  },
  {
   "cell_type": "markdown",
   "id": "d695229e",
   "metadata": {},
   "source": [
    "***\n",
    "Converting minutes to hours (and minutes)"
   ]
  },
  {
   "cell_type": "code",
   "execution_count": 4,
   "id": "d7729d42",
   "metadata": {},
   "outputs": [
    {
     "name": "stdout",
     "output_type": "stream",
     "text": [
      "hours only 3.3333333333333335\n",
      "hours =  3 and minutes =  20\n"
     ]
    }
   ],
   "source": [
    "minperhour = 60\n",
    "num_minutes = 200\n",
    "\n",
    "print (\"hours only\", num_minutes / minperhour)\n",
    "\n",
    "hours = num_minutes // 60\n",
    "minutes = num_minutes % 60\n",
    "print (\"hours = \", hours, \"and minutes = \", minutes)"
   ]
  },
  {
   "cell_type": "markdown",
   "id": "08b3cd5c",
   "metadata": {},
   "source": [
    "**Objectives:**\n",
    "    \n",
    " - execute basic python mathematical functions\n",
    " - identify popular data science language\n",
    " - identify commonly used data science libraries\n",
    " - become familiar with python commenting fundamentals\n"
   ]
  },
  {
   "cell_type": "markdown",
   "id": "3f87d46e",
   "metadata": {},
   "source": [
    "### Created by Cathy Petrozzino"
   ]
  },
  {
   "cell_type": "code",
   "execution_count": null,
   "id": "ba1662c5",
   "metadata": {},
   "outputs": [],
   "source": []
  }
 ],
 "metadata": {
  "kernelspec": {
   "display_name": "Python 3 (ipykernel)",
   "language": "python",
   "name": "python3"
  },
  "language_info": {
   "codemirror_mode": {
    "name": "ipython",
    "version": 3
   },
   "file_extension": ".py",
   "mimetype": "text/x-python",
   "name": "python",
   "nbconvert_exporter": "python",
   "pygments_lexer": "ipython3",
   "version": "3.9.13"
  }
 },
 "nbformat": 4,
 "nbformat_minor": 5
}
